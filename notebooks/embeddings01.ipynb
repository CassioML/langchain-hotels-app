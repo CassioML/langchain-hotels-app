{
 "cells": [
  {
   "cell_type": "markdown",
   "id": "4fef5c52",
   "metadata": {},
   "source": [
    "# Embeddings"
   ]
  },
  {
   "cell_type": "markdown",
   "id": "d1ff3676",
   "metadata": {},
   "source": [
    "1. experiment with embeddings\n",
    "2. a vector table _with cassIO_\n",
    "3. load some data\n",
    "4. a first query"
   ]
  },
  {
   "cell_type": "code",
   "execution_count": null,
   "id": "48b32cf3",
   "metadata": {},
   "outputs": [],
   "source": [
    "import os\n",
    "from dotenv import find_dotenv, load_dotenv\n",
    "dotenv_file = find_dotenv('.env')\n",
    "load_dotenv(dotenv_file)\n",
    "\n",
    "OPENAI_API_KEY = os.environ['OPENAI_API_KEY']"
   ]
  },
  {
   "cell_type": "code",
   "execution_count": null,
   "id": "7b31b868",
   "metadata": {},
   "outputs": [],
   "source": [
    "from langchain.embeddings.openai import OpenAIEmbeddings\n",
    "myEmbedding = OpenAIEmbeddings()"
   ]
  },
  {
   "cell_type": "code",
   "execution_count": null,
   "id": "0c4760a9",
   "metadata": {},
   "outputs": [],
   "source": [
    "cat1 = myEmbedding.embed_query('The cat is on the table')"
   ]
  },
  {
   "cell_type": "code",
   "execution_count": null,
   "id": "3b27ff5c",
   "metadata": {},
   "outputs": [],
   "source": [
    "sum([x*x for x in cat1]) # cat1 * cat1"
   ]
  },
  {
   "cell_type": "code",
   "execution_count": null,
   "id": "ca42dd93",
   "metadata": {},
   "outputs": [],
   "source": [
    "cat2 = myEmbedding.embed_query('A kitten lies upon a desk')"
   ]
  },
  {
   "cell_type": "code",
   "execution_count": null,
   "id": "c6d50220",
   "metadata": {},
   "outputs": [],
   "source": [
    "catZ = myEmbedding.embed_query('Yesterday, when I was mad')"
   ]
  },
  {
   "cell_type": "code",
   "execution_count": null,
   "id": "68fba328",
   "metadata": {},
   "outputs": [],
   "source": [
    "def dotp(v1, v2):\n",
    "    return sum([x*y for x, y in zip(v1, v2)])"
   ]
  },
  {
   "cell_type": "code",
   "execution_count": null,
   "id": "4005886a",
   "metadata": {},
   "outputs": [],
   "source": [
    "dotp(cat1, cat2)"
   ]
  },
  {
   "cell_type": "code",
   "execution_count": null,
   "id": "5d724a18",
   "metadata": {},
   "outputs": [],
   "source": [
    "dotp(cat1, catZ)"
   ]
  },
  {
   "cell_type": "markdown",
   "id": "33190c5a",
   "metadata": {},
   "source": [
    "## CassIO"
   ]
  },
  {
   "cell_type": "code",
   "execution_count": null,
   "id": "f758aa79",
   "metadata": {},
   "outputs": [],
   "source": [
    "from cassio.vector import VectorTable"
   ]
  },
  {
   "cell_type": "code",
   "execution_count": null,
   "id": "028df4ac",
   "metadata": {},
   "outputs": [],
   "source": [
    "import os\n",
    "from dotenv import find_dotenv, load_dotenv\n",
    "from cassandra.cluster import Cluster\n",
    "from cassandra.auth import PlainTextAuthProvider\n",
    "\n",
    "dotenv_file = find_dotenv('.env')\n",
    "load_dotenv(dotenv_file)\n",
    "\n",
    "ASTRA_DB_SECURE_BUNDLE_PATH = os.environ['ASTRA_DB_SECURE_BUNDLE_PATH']\n",
    "ASTRA_DB_APPLICATION_TOKEN = os.environ['ASTRA_DB_APPLICATION_TOKEN']\n",
    "ASTRA_DB_KEYSPACE = os.environ['ASTRA_DB_KEYSPACE']\n",
    "\n",
    "cluster = Cluster(\n",
    "    cloud={\n",
    "        'secure_connect_bundle': ASTRA_DB_SECURE_BUNDLE_PATH,\n",
    "    },\n",
    "    auth_provider=PlainTextAuthProvider(\n",
    "        'token',\n",
    "        ASTRA_DB_APPLICATION_TOKEN,\n",
    "    ),\n",
    ")\n",
    "session = cluster.connect()"
   ]
  },
  {
   "cell_type": "code",
   "execution_count": null,
   "id": "6640e79a",
   "metadata": {},
   "outputs": [],
   "source": [
    "mytable = VectorTable(\n",
    "    session=session,\n",
    "    keyspace=ASTRA_DB_KEYSPACE,\n",
    "    table='test_vector_table',\n",
    "    embedding_dimension=1536,\n",
    "    auto_id=False,\n",
    ")"
   ]
  },
  {
   "cell_type": "code",
   "execution_count": null,
   "id": "b06722e4",
   "metadata": {},
   "outputs": [],
   "source": [
    "mytable.put(\n",
    "    document='A kitten lies upon a desk',\n",
    "    embedding_vector=cat2,\n",
    "    document_id='cat2',\n",
    "    metadata={},\n",
    "    ttl_seconds=None,\n",
    ")"
   ]
  },
  {
   "cell_type": "code",
   "execution_count": null,
   "id": "6db890e9",
   "metadata": {},
   "outputs": [],
   "source": [
    "mytable.put(\n",
    "    document='The cat is on the table',\n",
    "    embedding_vector=cat1,\n",
    "    document_id='cat1',\n",
    "    metadata={},\n",
    "    ttl_seconds=None,\n",
    ")"
   ]
  },
  {
   "cell_type": "code",
   "execution_count": null,
   "id": "eec6b57c",
   "metadata": {},
   "outputs": [],
   "source": [
    "def add_sentence(tab, sen, emb, idx):\n",
    "    vec = emb.embed_query(sen)\n",
    "    tab.put(\n",
    "        document=sen,\n",
    "        embedding_vector=vec,\n",
    "        document_id=idx,\n",
    "        metadata={},\n",
    "        ttl_seconds=None,\n",
    "    )"
   ]
  },
  {
   "cell_type": "code",
   "execution_count": null,
   "id": "39d7a5e0",
   "metadata": {},
   "outputs": [],
   "source": [
    "add_sentence(mytable, 'Yesterday, when I was mad', myEmbedding, 'vecZ')"
   ]
  },
  {
   "cell_type": "code",
   "execution_count": null,
   "id": "55b35b2f",
   "metadata": {},
   "outputs": [],
   "source": [
    "# mytable.delete('vecZ')"
   ]
  },
  {
   "cell_type": "code",
   "execution_count": null,
   "id": "2519df13",
   "metadata": {},
   "outputs": [],
   "source": [
    "query_string = 'where is the cat?' \n",
    "q_emb = myEmbedding.embed_query(query_string)\n",
    "matches = mytable.search(\n",
    "    q_emb,\n",
    "    3,\n",
    "    metric='cos',\n",
    "    metric_threshold=None,\n",
    ")"
   ]
  },
  {
   "cell_type": "code",
   "execution_count": null,
   "id": "a2c6f609",
   "metadata": {},
   "outputs": [],
   "source": [
    "best_match = matches[0]"
   ]
  },
  {
   "cell_type": "code",
   "execution_count": null,
   "id": "362fcf1e",
   "metadata": {},
   "outputs": [],
   "source": [
    "type(best_match)"
   ]
  },
  {
   "cell_type": "code",
   "execution_count": null,
   "id": "058f27ac",
   "metadata": {},
   "outputs": [],
   "source": [
    "best_match['document']"
   ]
  },
  {
   "cell_type": "code",
   "execution_count": null,
   "id": "479cb5f7",
   "metadata": {},
   "outputs": [],
   "source": [
    "[m['distance'] for m in matches]"
   ]
  },
  {
   "cell_type": "code",
   "execution_count": null,
   "id": "4b7769b9",
   "metadata": {},
   "outputs": [],
   "source": []
  }
 ],
 "metadata": {
  "kernelspec": {
   "display_name": "Python 3 (ipykernel)",
   "language": "python",
   "name": "python3"
  },
  "language_info": {
   "codemirror_mode": {
    "name": "ipython",
    "version": 3
   },
   "file_extension": ".py",
   "mimetype": "text/x-python",
   "name": "python",
   "nbconvert_exporter": "python",
   "pygments_lexer": "ipython3",
   "version": "3.10.11"
  }
 },
 "nbformat": 4,
 "nbformat_minor": 5
}
